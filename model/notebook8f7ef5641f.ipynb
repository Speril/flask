{
 "cells": [
  {
   "cell_type": "code",
   "execution_count": 1,
   "id": "sublime-batch",
   "metadata": {
    "_cell_guid": "b1076dfc-b9ad-4769-8c92-a6c4dae69d19",
    "_uuid": "8f2839f25d086af736a60e9eeb907d3b93b6e0e5",
    "execution": {
     "iopub.execute_input": "2021-06-03T06:18:43.835136Z",
     "iopub.status.busy": "2021-06-03T06:18:43.833059Z",
     "iopub.status.idle": "2021-06-03T06:20:38.568050Z",
     "shell.execute_reply": "2021-06-03T06:20:38.567318Z",
     "shell.execute_reply.started": "2021-06-03T06:02:15.765037Z"
    },
    "papermill": {
     "duration": 114.754304,
     "end_time": "2021-06-03T06:20:38.568236",
     "exception": false,
     "start_time": "2021-06-03T06:18:43.813932",
     "status": "completed"
    },
    "tags": []
   },
   "outputs": [
    {
     "name": "stdout",
     "output_type": "stream",
     "text": [
      "COVID  :  ../input/covid-19-xray-and-ct-scan-image-dataset/COVID-19 Dataset/CT/COVID/coronacases_org_008_z227.png\n",
      "COVID  :  ../input/covid-19-xray-and-ct-scan-image-dataset/COVID-19 Dataset/CT/COVID/coronacases_org_004_z022.png\n",
      "COVID  :  ../input/covid-19-xray-and-ct-scan-image-dataset/COVID-19 Dataset/CT/COVID/tr_im_z041.png\n",
      "COVID  :  ../input/covid-19-xray-and-ct-scan-image-dataset/COVID-19 Dataset/CT/COVID/coronacases_org_010_z145.png\n",
      "COVID  :  ../input/covid-19-xray-and-ct-scan-image-dataset/COVID-19 Dataset/CT/COVID/Covid (124).png\n",
      "COVID  :  ../input/covid-19-xray-and-ct-scan-image-dataset/COVID-19 Dataset/CT/COVID/coronacases_org_004_z104.png\n",
      "COVID  :  ../input/covid-19-xray-and-ct-scan-image-dataset/COVID-19 Dataset/CT/COVID/Covid (387).png\n",
      "COVID  :  ../input/covid-19-xray-and-ct-scan-image-dataset/COVID-19 Dataset/CT/COVID/radiopaedia_org_covid-19-pneumonia-14_85914_0-dcm_z033.png\n",
      "COVID  :  ../input/covid-19-xray-and-ct-scan-image-dataset/COVID-19 Dataset/CT/COVID/coronacases_org_003_z038.png\n",
      "COVID  :  ../input/covid-19-xray-and-ct-scan-image-dataset/COVID-19 Dataset/CT/COVID/coronacases_org_004_z137.png\n",
      "COVID  :  ../input/covid-19-xray-and-ct-scan-image-dataset/COVID-19 Dataset/CT/COVID/Covid (468).png\n",
      "COVID  :  ../input/covid-19-xray-and-ct-scan-image-dataset/COVID-19 Dataset/CT/COVID/coronacases_org_007_z161.png\n",
      "COVID  :  ../input/covid-19-xray-and-ct-scan-image-dataset/COVID-19 Dataset/CT/COVID/coronacases_org_006_z029.png\n",
      "COVID  :  ../input/covid-19-xray-and-ct-scan-image-dataset/COVID-19 Dataset/CT/COVID/coronacases_org_010_z056.png\n",
      "COVID  :  ../input/covid-19-xray-and-ct-scan-image-dataset/COVID-19 Dataset/CT/COVID/coronacases_org_004_z184.png\n",
      "COVID  :  ../input/covid-19-xray-and-ct-scan-image-dataset/COVID-19 Dataset/CT/COVID/coronacases_org_009_z196.png\n",
      "COVID  :  ../input/covid-19-xray-and-ct-scan-image-dataset/COVID-19 Dataset/CT/COVID/radiopaedia_org_covid-19-pneumonia-29_86490_1-dcm_z024.png\n",
      "COVID  :  ../input/covid-19-xray-and-ct-scan-image-dataset/COVID-19 Dataset/CT/COVID/2020.02.25.20021568-p23-108%2.png\n",
      "Non-COVID  :  ../input/covid-19-xray-and-ct-scan-image-dataset/COVID-19 Dataset/CT/Non-COVID/1.3.6.1.4.1.14519.5.2.1.6279.6001.313283554967554803238484128406.mhd_87.png\n",
      "Non-COVID  :  ../input/covid-19-xray-and-ct-scan-image-dataset/COVID-19 Dataset/CT/Non-COVID/Non-Covid (403).png\n",
      "Non-COVID  :  ../input/covid-19-xray-and-ct-scan-image-dataset/COVID-19 Dataset/CT/Non-COVID/Non-Covid (418).png\n",
      "Non-COVID  :  ../input/covid-19-xray-and-ct-scan-image-dataset/COVID-19 Dataset/CT/Non-COVID/Non-Covid (182).png\n",
      "Non-COVID  :  ../input/covid-19-xray-and-ct-scan-image-dataset/COVID-19 Dataset/CT/Non-COVID/1.3.6.1.4.1.14519.5.2.1.6279.6001.217697417596902141600884006982.mhd_305.png\n",
      "Non-COVID  :  ../input/covid-19-xray-and-ct-scan-image-dataset/COVID-19 Dataset/CT/Non-COVID/Non-Covid (275).png\n",
      "Non-COVID  :  ../input/covid-19-xray-and-ct-scan-image-dataset/COVID-19 Dataset/CT/Non-COVID/1.3.6.1.4.1.14519.5.2.1.6279.6001.212346425055214308006918165305.mhd_86.png\n",
      "Non-COVID  :  ../input/covid-19-xray-and-ct-scan-image-dataset/COVID-19 Dataset/CT/Non-COVID/1.3.6.1.4.1.14519.5.2.1.6279.6001.618434772073433276874225174904.mhd_49.png\n",
      "Non-COVID  :  ../input/covid-19-xray-and-ct-scan-image-dataset/COVID-19 Dataset/CT/Non-COVID/1.3.6.1.4.1.14519.5.2.1.6279.6001.275849601663847251574860892603.mhd_190.png\n"
     ]
    },
    {
     "name": "stderr",
     "output_type": "stream",
     "text": [
      "/opt/conda/lib/python3.7/site-packages/numpy/core/_asarray.py:136: VisibleDeprecationWarning: Creating an ndarray from ragged nested sequences (which is a list-or-tuple of lists-or-tuples-or ndarrays with different lengths or shapes) is deprecated. If you meant to do this, you must specify 'dtype=object' when creating the ndarray\n",
      "  return array(a, dtype, copy=False, order=order, subok=True)\n"
     ]
    }
   ],
   "source": [
    "from PIL import Image\n",
    "import os, glob, sys, numpy as np\n",
    "from sklearn.model_selection import train_test_split\n",
    "from keras.utils import np_utils\n",
    "from tensorflow import keras\n",
    "from tensorflow.keras.utils import to_categorical\n",
    "\n",
    "img_dir = '../input/covid-19-xray-and-ct-scan-image-dataset/COVID-19 Dataset/CT'\n",
    "categories = ['COVID','Non-COVID']\n",
    "n_classes = len(categories)\n",
    "\n",
    "image_w = 112\n",
    "image_h = 112\n",
    "\n",
    "\n",
    "pixel = image_h * image_w * 3\n",
    "\n",
    "X = []\n",
    "y = []\n",
    "\n",
    "for idx, cat in enumerate(categories):\n",
    "    img_dir_detail = img_dir + \"/\" + cat\n",
    "    files = glob.glob(img_dir_detail+\"/*.png\")\n",
    "\n",
    "\n",
    "    for i, f in enumerate(files):\n",
    "        try:\n",
    "            img = Image.open(f)\n",
    "            img = img.convert(\"RGB\")\n",
    "            img = img.resize((image_w, image_h))\n",
    "            data = np.asarray(img)\n",
    "            #Y는 0 아니면 1이니까 idx값으로 넣는다.\n",
    "            X.append(data)\n",
    "            y.append(idx)\n",
    "            if i % 300 == 0:\n",
    "                print(cat, \" : \", f)\n",
    "        except:\n",
    "            print(cat, str(i)+\" 번째에서 에러 \")\n",
    "X = np.array(X)\n",
    "y = np.array(y)\n",
    "\n",
    "\n",
    "X_train, X_test, y_train, y_test = train_test_split(X, y, test_size=0.1)\n",
    "\n",
    "xy = (X_train, X_test, y_train, y_test)\n",
    "np.save(\"./binary_image_data.npy\", xy)"
   ]
  },
  {
   "cell_type": "code",
   "execution_count": 2,
   "id": "secret-patient",
   "metadata": {
    "execution": {
     "iopub.execute_input": "2021-06-03T06:20:38.618039Z",
     "iopub.status.busy": "2021-06-03T06:20:38.616872Z",
     "iopub.status.idle": "2021-06-03T06:20:38.991361Z",
     "shell.execute_reply": "2021-06-03T06:20:38.992214Z",
     "shell.execute_reply.started": "2021-06-03T06:05:16.02403Z"
    },
    "papermill": {
     "duration": 0.403139,
     "end_time": "2021-06-03T06:20:38.992481",
     "exception": false,
     "start_time": "2021-06-03T06:20:38.589342",
     "status": "completed"
    },
    "tags": []
   },
   "outputs": [
    {
     "name": "stdout",
     "output_type": "stream",
     "text": [
      "(6993, 112, 112, 3)\n",
      "6993\n",
      "[4830 2163]\n",
      "[516 261]\n"
     ]
    }
   ],
   "source": [
    "from keras.models import Sequential\n",
    "from keras.layers import Conv2D, MaxPooling2D, Dense, Flatten, Dropout\n",
    "from keras.callbacks import EarlyStopping, ModelCheckpoint\n",
    "import matplotlib.pyplot as plt\n",
    "import numpy as np\n",
    "\n",
    "#np_load_old = np.load\n",
    "#np.load = lambda *a,**k: np_load_old(*a, allow_pickle=True, **k)\n",
    "X_train, X_test, y_train, y_test = np.load('./binary_image_data.npy', allow_pickle=True)\n",
    "#np.load = np_load_old\n",
    "print(X_train.shape)\n",
    "print(X_train.shape[0])\n",
    "print(np.bincount(y_train))\n",
    "print(np.bincount(y_test))"
   ]
  },
  {
   "cell_type": "code",
   "execution_count": 3,
   "id": "sunset-vintage",
   "metadata": {
    "execution": {
     "iopub.execute_input": "2021-06-03T06:20:39.043675Z",
     "iopub.status.busy": "2021-06-03T06:20:39.042364Z",
     "iopub.status.idle": "2021-06-03T06:20:39.976071Z",
     "shell.execute_reply": "2021-06-03T06:20:39.975483Z",
     "shell.execute_reply.started": "2021-06-03T06:05:19.915793Z"
    },
    "papermill": {
     "duration": 0.961774,
     "end_time": "2021-06-03T06:20:39.976239",
     "exception": false,
     "start_time": "2021-06-03T06:20:39.014465",
     "status": "completed"
    },
    "tags": []
   },
   "outputs": [
    {
     "name": "stdout",
     "output_type": "stream",
     "text": [
      "(6993, 112, 112, 3) (6993, 2) (777, 112, 112, 3) (777, 2)\n",
      "(5594, 112, 112, 3) (5594, 2) (777, 112, 112, 3) (777, 2) (1399, 112, 112, 3) (1399, 2)\n"
     ]
    }
   ],
   "source": [
    "IMAGE_SIZE = 112\n",
    "BATCH_SIZE = 16\n",
    "X_train = X_train.astype('float32') / 255.\n",
    "X_test = X_test.astype('float32') / 255.\n",
    "\n",
    "y_train = keras.utils.to_categorical(y_train)\n",
    "y_test = keras.utils.to_categorical(y_test)\n",
    "\n",
    "print(X_train.shape, y_train.shape, X_test.shape, y_test.shape)\n",
    "\n",
    "X_train, X_val, y_train, y_val = train_test_split(X_train, y_train, test_size=0.2, random_state=1)\n",
    "print(X_train.shape, y_train.shape, X_test.shape, y_test.shape, X_val.shape, y_val.shape)"
   ]
  },
  {
   "cell_type": "code",
   "execution_count": 4,
   "id": "bridal-joseph",
   "metadata": {
    "execution": {
     "iopub.execute_input": "2021-06-03T06:20:40.036167Z",
     "iopub.status.busy": "2021-06-03T06:20:40.030459Z",
     "iopub.status.idle": "2021-06-03T06:20:40.218448Z",
     "shell.execute_reply": "2021-06-03T06:20:40.217850Z",
     "shell.execute_reply.started": "2021-06-03T06:05:23.146486Z"
    },
    "papermill": {
     "duration": 0.219789,
     "end_time": "2021-06-03T06:20:40.218647",
     "exception": false,
     "start_time": "2021-06-03T06:20:39.998858",
     "status": "completed"
    },
    "tags": []
   },
   "outputs": [],
   "source": [
    "from tensorflow.keras.utils import Sequence\n",
    "import cv2\n",
    "import sklearn\n",
    "\n",
    "# 입력 인자 images_array labels는 모두 numpy array로 들어옴. \n",
    "# 인자로 입력되는 images_array는 전체 32x32 image array임. \n",
    "class _Dataset(Sequence):\n",
    "    def __init__(self, images_array, labels, batch_size=BATCH_SIZE, augmentor=None, shuffle=False, pre_func=None):\n",
    "        '''\n",
    "        파라미터 설명\n",
    "        images_array: 원본 32x32 만큼의 image 배열값. \n",
    "        labels: 해당 image의 label들\n",
    "        batch_size: __getitem__(self, index) 호출 시 마다 가져올 데이터 batch 건수\n",
    "        augmentor: albumentations 객체\n",
    "        shuffle: 학습 데이터의 경우 epoch 종료시마다 데이터를 섞을지 여부\n",
    "        '''\n",
    "        # 객체 생성 인자로 들어온 값을 객체 내부 변수로 할당. \n",
    "        # 인자로 입력되는 images_array는 전체 32x32 image array임.\n",
    "        self.images_array = images_array\n",
    "        self.labels = labels\n",
    "        self.batch_size = batch_size\n",
    "        self.augmentor = augmentor\n",
    "        self.pre_func = pre_func\n",
    "        # train data의 경우 \n",
    "        self.shuffle = shuffle\n",
    "        if self.shuffle:\n",
    "            # 객체 생성시에 한번 데이터를 섞음. \n",
    "            #self.on_epoch_end()\n",
    "            pass\n",
    "    \n",
    "    # Sequence를 상속받은 Dataset은 batch_size 단위로 입력된 데이터를 처리함. \n",
    "    # __len__()은 전체 데이터 건수가 주어졌을 때 batch_size단위로 몇번 데이터를 반환하는지 나타남\n",
    "    def __len__(self):\n",
    "        # batch_size단위로 데이터를 몇번 가져와야하는지 계산하기 위해 전체 데이터 건수를 batch_size로 나누되, 정수로 정확히 나눠지지 않을 경우 1회를 더한다. \n",
    "        return int(np.ceil(len(self.labels) / self.batch_size))\n",
    "    \n",
    "    # batch_size 단위로 image_array, label_array 데이터를 가져와서 변환한 뒤 다시 반환함\n",
    "    # 인자로 몇번째 batch 인지를 나타내는 index를 입력하면 해당 순서에 해당하는 batch_size 만큼의 데이타를 가공하여 반환\n",
    "    # batch_size 갯수만큼 변환된 image_array와 label_array 반환. \n",
    "    def __getitem__(self, index):\n",
    "        images_fetch = self.images_array[index*self.batch_size:(index+1)*self.batch_size]\n",
    "        if self.labels is not None:\n",
    "            label_batch = self.labels[index*self.batch_size:(index+1)*self.batch_size]\n",
    "        \n",
    "        # 만일 객체 생성 인자로 albumentation으로 만든 augmentor가 주어진다면 아래와 같이 augmentor를 이용하여 image 변환\n",
    "        # albumentations은 개별 image만 변환할 수 있으므로 batch_size만큼 할당된 image_name_batch를 한 건씩 iteration하면서 변환 수행. \n",
    "        # 변환된 image 배열값을 담을 image_batch 선언. image_batch 배열은 float32 로 설정. \n",
    "        image_batch = np.zeros((images_fetch.shape[0], IMAGE_SIZE, IMAGE_SIZE, 3), dtype='float32')\n",
    "        \n",
    "        # batch_size에 담긴 건수만큼 iteration 하면서 opencv image load -> image augmentation 변환(augmentor가 not None일 경우)-> image_batch에 담음. \n",
    "        for image_index in range(images_fetch.shape[0]):\n",
    "            #image = cv2.cvtColor(cv2.imread(image_name_batch[image_index]), cv2.COLOR_BGR2RGB)\n",
    "            # 원본 image를 IMAGE_SIZE x IMAGE_SIZE 크기로 변환\n",
    "            image = cv2.resize(images_fetch[image_index], (IMAGE_SIZE, IMAGE_SIZE))\n",
    "            # 만약 augmentor가 주어졌다면 이를 적용. \n",
    "            if self.augmentor is not None:\n",
    "                image = self.augmentor(image=image)['image']\n",
    "                \n",
    "            # 만약 scaling 함수가 입력되었다면 이를 적용하여 scaling 수행. \n",
    "            if self.pre_func is not None:\n",
    "                image = self.pre_func(image)\n",
    "            \n",
    "            # image_batch에 순차적으로 변환된 image를 담음.               \n",
    "            image_batch[image_index] = image\n",
    "        \n",
    "        return image_batch, label_batch\n",
    "    \n",
    "    # epoch가 한번 수행이 완료 될 때마다 모델의 fit()에서 호출됨. \n",
    "    def on_epoch_end(self):\n",
    "        if(self.shuffle):\n",
    "            #print('epoch end')\n",
    "            # 원본 image배열과 label를 쌍을 맞춰서 섞어준다. scikt learn의 utils.shuffle에서 해당 기능 제공\n",
    "            self.images_array, self.labels = sklearn.utils.shuffle(self.images_array, self.labels)\n",
    "        else:\n",
    "            pass"
   ]
  },
  {
   "cell_type": "code",
   "execution_count": 5,
   "id": "innovative-ultimate",
   "metadata": {
    "execution": {
     "iopub.execute_input": "2021-06-03T06:20:40.267692Z",
     "iopub.status.busy": "2021-06-03T06:20:40.267005Z",
     "iopub.status.idle": "2021-06-03T06:20:40.271331Z",
     "shell.execute_reply": "2021-06-03T06:20:40.271909Z",
     "shell.execute_reply.started": "2021-06-03T06:05:26.349001Z"
    },
    "papermill": {
     "duration": 0.031416,
     "end_time": "2021-06-03T06:20:40.272072",
     "exception": false,
     "start_time": "2021-06-03T06:20:40.240656",
     "status": "completed"
    },
    "tags": []
   },
   "outputs": [],
   "source": [
    "from tensorflow.keras.applications.vgg19 import preprocess_input as vgg_preprocess\n",
    "\n",
    "# tr_ds = _Dataset(X_train, y_train, batch_size=BATCH_SIZE, augmentor=None, shuffle=True, pre_func=vgg_preprocess)\n",
    "val_ds = _Dataset(X_val, y_val, batch_size=BATCH_SIZE, augmentor=None, shuffle=False, pre_func=vgg_preprocess)"
   ]
  },
  {
   "cell_type": "code",
   "execution_count": 6,
   "id": "irish-afternoon",
   "metadata": {
    "execution": {
     "iopub.execute_input": "2021-06-03T06:20:40.327849Z",
     "iopub.status.busy": "2021-06-03T06:20:40.326986Z",
     "iopub.status.idle": "2021-06-03T06:20:45.331984Z",
     "shell.execute_reply": "2021-06-03T06:20:45.332818Z",
     "shell.execute_reply.started": "2021-06-03T06:11:29.449033Z"
    },
    "papermill": {
     "duration": 5.038564,
     "end_time": "2021-06-03T06:20:45.333054",
     "exception": false,
     "start_time": "2021-06-03T06:20:40.294490",
     "status": "completed"
    },
    "tags": []
   },
   "outputs": [
    {
     "name": "stdout",
     "output_type": "stream",
     "text": [
      "Downloading data from https://storage.googleapis.com/tensorflow/keras-applications/vgg19/vgg19_weights_tf_dim_ordering_tf_kernels_notop.h5\n",
      "80142336/80134624 [==============================] - 2s 0us/step\n",
      "Model: \"sequential\"\n",
      "_________________________________________________________________\n",
      "Layer (type)                 Output Shape              Param #   \n",
      "=================================================================\n",
      "vgg19 (Functional)           (None, 3, 3, 512)         20024384  \n",
      "_________________________________________________________________\n",
      "batch_normalization (BatchNo (None, 3, 3, 512)         2048      \n",
      "_________________________________________________________________\n",
      "global_average_pooling2d (Gl (None, 512)               0         \n",
      "_________________________________________________________________\n",
      "dropout (Dropout)            (None, 512)               0         \n",
      "_________________________________________________________________\n",
      "dense (Dense)                (None, 256)               131328    \n",
      "_________________________________________________________________\n",
      "dropout_1 (Dropout)          (None, 256)               0         \n",
      "_________________________________________________________________\n",
      "dense_1 (Dense)              (None, 2)                 514       \n",
      "=================================================================\n",
      "Total params: 20,158,274\n",
      "Trainable params: 20,157,250\n",
      "Non-trainable params: 1,024\n",
      "_________________________________________________________________\n"
     ]
    }
   ],
   "source": [
    "from tensorflow.keras.models import Sequential\n",
    "from tensorflow.keras import layers \n",
    "from PIL import Image\n",
    "from tensorflow.keras.applications.vgg19 import VGG19\n",
    "from tensorflow.keras.layers import Input, Dense, Dropout, Flatten, Conv2D, Activation, MaxPooling2D , GlobalAveragePooling2D\n",
    "from tensorflow.keras.models import Model\n",
    "from tensorflow.keras.optimizers import Adam , RMSprop \n",
    "from tensorflow.keras.layers import BatchNormalization\n",
    "from tensorflow.keras.callbacks import ReduceLROnPlateau , EarlyStopping , ModelCheckpoint , LearningRateScheduler\n",
    "import numpy as np\n",
    "import pandas as pd\n",
    "import os\n",
    "import cv2\n",
    "import re\n",
    "import skimage\n",
    "import matplotlib.pyplot as plt\n",
    " \n",
    "input_tensor = Input(shape=(112, 112, 3))\n",
    "base_model = VGG19(input_tensor=input_tensor, include_top=False, weights='imagenet')\n",
    "model = Sequential()\n",
    "model.add(base_model)\n",
    "model.add(layers.BatchNormalization())\n",
    "model.add(layers. GlobalAveragePooling2D())\n",
    "model.add(layers.Dropout(0.5))\n",
    "model.add(layers.Dense(256, activation = 'relu'))\n",
    "model.add(layers.Dropout(0.5))\n",
    "model.add(layers.Dense(n_classes, activation = 'softmax'))\n",
    "model.summary()\n"
   ]
  },
  {
   "cell_type": "code",
   "execution_count": 7,
   "id": "integral-american",
   "metadata": {
    "execution": {
     "iopub.execute_input": "2021-06-03T06:20:45.404767Z",
     "iopub.status.busy": "2021-06-03T06:20:45.403204Z",
     "iopub.status.idle": "2021-06-03T06:20:45.411880Z",
     "shell.execute_reply": "2021-06-03T06:20:45.411302Z",
     "shell.execute_reply.started": "2021-06-02T14:49:35.248097Z"
    },
    "papermill": {
     "duration": 0.05092,
     "end_time": "2021-06-03T06:20:45.412027",
     "exception": false,
     "start_time": "2021-06-03T06:20:45.361107",
     "status": "completed"
    },
    "tags": []
   },
   "outputs": [],
   "source": [
    "model.compile(optimizer=Adam(lr=0.0001), loss='binary_crossentropy', metrics=['accuracy'])\n",
    "\n",
    "model_path = \"COVIDMD.h5\"\n",
    "# rlr_cb = ReduceLROnPlateau(monitor='val_loss', factor=0.2, patience=5, mode='min', verbose=1)\n",
    "ely_cb = EarlyStopping(monitor='val_loss', patience=10, mode='min', verbose=1)\n",
    "checkpoint = ModelCheckpoint(filepath=model_path, monitor='val_loss', verbose=1, \n",
    "                                 save_best_only=True)\n"
   ]
  },
  {
   "cell_type": "code",
   "execution_count": 8,
   "id": "posted-gallery",
   "metadata": {
    "execution": {
     "iopub.execute_input": "2021-06-03T06:20:45.474847Z",
     "iopub.status.busy": "2021-06-03T06:20:45.474073Z",
     "iopub.status.idle": "2021-06-03T07:07:06.819869Z",
     "shell.execute_reply": "2021-06-03T07:07:06.818885Z",
     "shell.execute_reply.started": "2021-06-02T14:51:01.39727Z"
    },
    "papermill": {
     "duration": 2781.379518,
     "end_time": "2021-06-03T07:07:06.820074",
     "exception": false,
     "start_time": "2021-06-03T06:20:45.440556",
     "status": "completed"
    },
    "tags": []
   },
   "outputs": [
    {
     "name": "stdout",
     "output_type": "stream",
     "text": [
      "Epoch 1/4500\n",
      "350/350 [==============================] - 263s 729ms/step - loss: 0.4596 - accuracy: 0.7716 - val_loss: 9.4999 - val_accuracy: 0.7119\n",
      "\n",
      "Epoch 00001: val_loss improved from inf to 9.49992, saving model to COVIDMD.h5\n",
      "Epoch 2/4500\n",
      "350/350 [==============================] - 252s 719ms/step - loss: 0.2617 - accuracy: 0.8945 - val_loss: 47.5507 - val_accuracy: 0.7119\n",
      "\n",
      "Epoch 00002: val_loss did not improve from 9.49992\n",
      "Epoch 3/4500\n",
      "350/350 [==============================] - 251s 719ms/step - loss: 0.1829 - accuracy: 0.9261 - val_loss: 38.1873 - val_accuracy: 0.7119\n",
      "\n",
      "Epoch 00003: val_loss did not improve from 9.49992\n",
      "Epoch 4/4500\n",
      "350/350 [==============================] - 251s 719ms/step - loss: 0.1447 - accuracy: 0.9383 - val_loss: 21.6737 - val_accuracy: 0.7119\n",
      "\n",
      "Epoch 00004: val_loss did not improve from 9.49992\n",
      "Epoch 5/4500\n",
      "350/350 [==============================] - 252s 719ms/step - loss: 0.1341 - accuracy: 0.9451 - val_loss: 71.8290 - val_accuracy: 0.2881\n",
      "\n",
      "Epoch 00005: val_loss did not improve from 9.49992\n",
      "Epoch 6/4500\n",
      "350/350 [==============================] - 251s 719ms/step - loss: 0.1330 - accuracy: 0.9501 - val_loss: 88.2441 - val_accuracy: 0.7119\n",
      "\n",
      "Epoch 00006: val_loss did not improve from 9.49992\n",
      "Epoch 7/4500\n",
      "350/350 [==============================] - 251s 719ms/step - loss: 0.1034 - accuracy: 0.9587 - val_loss: 21.2698 - val_accuracy: 0.7119\n",
      "\n",
      "Epoch 00007: val_loss did not improve from 9.49992\n",
      "Epoch 8/4500\n",
      "350/350 [==============================] - 252s 719ms/step - loss: 0.0784 - accuracy: 0.9701 - val_loss: 40.9476 - val_accuracy: 0.7119\n",
      "\n",
      "Epoch 00008: val_loss did not improve from 9.49992\n",
      "Epoch 9/4500\n",
      "350/350 [==============================] - 251s 719ms/step - loss: 0.0753 - accuracy: 0.9734 - val_loss: 45.5248 - val_accuracy: 0.7119\n",
      "\n",
      "Epoch 00009: val_loss did not improve from 9.49992\n",
      "Epoch 10/4500\n",
      "350/350 [==============================] - 251s 719ms/step - loss: 0.0604 - accuracy: 0.9754 - val_loss: 58.1129 - val_accuracy: 0.7119\n",
      "\n",
      "Epoch 00010: val_loss did not improve from 9.49992\n",
      "Epoch 11/4500\n",
      "350/350 [==============================] - 252s 720ms/step - loss: 0.0687 - accuracy: 0.9762 - val_loss: 48.1583 - val_accuracy: 0.7119\n",
      "\n",
      "Epoch 00011: val_loss did not improve from 9.49992\n",
      "Epoch 00011: early stopping\n"
     ]
    }
   ],
   "source": [
    "history = model.fit(X_train, y_train, batch_size=BATCH_SIZE, epochs=4500,\n",
    "                    validation_data=val_ds,\n",
    "                    validation_steps=int(np.ceil(X_val.shape[0]/BATCH_SIZE)), \n",
    "                    callbacks=[ely_cb, checkpoint]\n",
    "#                     callbacks=[rlr_cb, ely_cb, checkpoint]\n",
    "                   )\n",
    "                   "
   ]
  },
  {
   "cell_type": "code",
   "execution_count": 9,
   "id": "lesbian-guatemala",
   "metadata": {
    "execution": {
     "iopub.execute_input": "2021-06-03T07:07:09.838525Z",
     "iopub.status.busy": "2021-06-03T07:07:09.837326Z",
     "iopub.status.idle": "2021-06-03T07:07:10.225247Z",
     "shell.execute_reply": "2021-06-03T07:07:10.225772Z",
     "shell.execute_reply.started": "2021-06-02T14:58:14.311769Z"
    },
    "papermill": {
     "duration": 2.075577,
     "end_time": "2021-06-03T07:07:10.225942",
     "exception": false,
     "start_time": "2021-06-03T07:07:08.150365",
     "status": "completed"
    },
    "tags": []
   },
   "outputs": [
    {
     "data": {
      "image/png": "[encoded data removed]",
      "text/plain": [
       "<Figure size 432x288 with 1 Axes>"
      ]
     },
     "metadata": {
      "needs_background": "light"
     },
     "output_type": "display_data"
    },
    {
     "data": {
      "image/png": "[encoded data removed]",
      "text/plain": [
       "<Figure size 432x288 with 1 Axes>"
      ]
     },
     "metadata": {
      "needs_background": "light"
     },
     "output_type": "display_data"
    }
   ],
   "source": [
    "import matplotlib.pyplot as plt\n",
    "\n",
    "acc = history.history['accuracy']\n",
    "val_acc = history.history['val_accuracy']\n",
    "loss = history.history['loss']\n",
    "val_loss = history.history['val_loss']\n",
    "\n",
    "epochs = range(len(acc))\n",
    "\n",
    "plt.plot(epochs, acc, 'bo', label='Training accuracy')\n",
    "plt.plot(epochs, val_acc, 'b', label='Validation accuracy')\n",
    "plt.title('Training and validation accuracy')\n",
    "plt.legend()\n",
    "\n",
    "plt.figure()\n",
    "\n",
    "plt.plot(epochs, loss, 'go', label='Training Loss')\n",
    "plt.plot(epochs, val_loss, 'g', label='Validation Loss')\n",
    "plt.title('Training and validation loss')\n",
    "plt.legend()\n",
    "\n",
    "plt.show()"
   ]
  },
  {
   "cell_type": "code",
   "execution_count": 10,
   "id": "demographic-location",
   "metadata": {
    "execution": {
     "iopub.execute_input": "2021-06-03T07:07:12.956505Z",
     "iopub.status.busy": "2021-06-03T07:07:12.955210Z",
     "iopub.status.idle": "2021-06-03T07:07:45.657099Z",
     "shell.execute_reply": "2021-06-03T07:07:45.656116Z",
     "shell.execute_reply.started": "2021-06-02T14:59:46.361096Z"
    },
    "papermill": {
     "duration": 34.074298,
     "end_time": "2021-06-03T07:07:45.657326",
     "exception": false,
     "start_time": "2021-06-03T07:07:11.583028",
     "status": "completed"
    },
    "tags": []
   },
   "outputs": [
    {
     "name": "stdout",
     "output_type": "stream",
     "text": [
      "25/25 [==============================] - 33s 1s/step - loss: 0.4171 - accuracy: 0.9241\n",
      "정확도 : 0.92 \n"
     ]
    }
   ],
   "source": [
    "\n",
    "print(\"정확도 : %.2f \" %(model.evaluate(X_test, y_test)[1]))"
   ]
  },
  {
   "cell_type": "code",
   "execution_count": 11,
   "id": "collaborative-temperature",
   "metadata": {
    "execution": {
     "iopub.execute_input": "2021-06-03T07:07:48.334285Z",
     "iopub.status.busy": "2021-06-03T07:07:48.333569Z",
     "iopub.status.idle": "2021-06-03T07:07:50.255663Z",
     "shell.execute_reply": "2021-06-03T07:07:50.256174Z",
     "shell.execute_reply.started": "2021-06-03T05:46:34.279701Z"
    },
    "papermill": {
     "duration": 3.261602,
     "end_time": "2021-06-03T07:07:50.256389",
     "exception": false,
     "start_time": "2021-06-03T07:07:46.994787",
     "status": "completed"
    },
    "tags": []
   },
   "outputs": [
    {
     "name": "stderr",
     "output_type": "stream",
     "text": [
      "/opt/conda/lib/python3.7/site-packages/tensorflow/python/keras/engine/sequential.py:450: UserWarning: `model.predict_classes()` is deprecated and will be removed after 2021-01-01. Please use instead:* `np.argmax(model.predict(x), axis=-1)`,   if your model does multi-class classification   (e.g. if it uses a `softmax` last-layer activation).* `(model.predict(x) > 0.5).astype(\"int32\")`,   if your model does binary classification   (e.g. if it uses a `sigmoid` last-layer activation).\n",
      "  warnings.warn('`model.predict_classes()` is deprecated and '\n"
     ]
    },
    {
     "name": "stdout",
     "output_type": "stream",
     "text": [
      "kjr-21-e24-p5-29.png : , Predict : COVID\n",
      "kjr-21-e24-p5-31.png : , Predict : COVID\n",
      "kjr-21-e24-p2-8.png : , Predict : COVID\n",
      "kjr-21-e24-p3-16.png : , Predict : COVID\n",
      "kjr-21-e25-p1-6.png : , Predict : COVID\n"
     ]
    }
   ],
   "source": [
    "import os, re, glob\n",
    "import cv2\n",
    "import numpy as np\n",
    "import shutil\n",
    "from numpy import argmax\n",
    "from keras.models import load_model\n",
    "\n",
    "image_dir = '../input/d/sueunkim555/coviddat/test/COVID/'\n",
    "categories = ['COVID','Non-COVID']\n",
    "\n",
    "def Dataization(img_path):\n",
    "    image_w = 112\n",
    "    image_h = 112\n",
    "    img = cv2.imread(img_path)\n",
    "    img = cv2.resize(img, None, fx=image_w/img.shape[1], fy=image_h/img.shape[0])\n",
    "    return (img/256)\n",
    " \n",
    "src = []\n",
    "name = []\n",
    "test = []\n",
    "\n",
    "for file in os.listdir(image_dir):\n",
    "    if (file.find('.png') is not -1):      \n",
    "        src.append(image_dir + file)\n",
    "        name.append(file)\n",
    "        test.append(Dataization(image_dir + file))\n",
    " \n",
    " \n",
    "test = np.array(test)\n",
    "model = load_model('COVIDMD.h5')\n",
    "predict = model.predict_classes(test)\n",
    " \n",
    "for i in range(len(test)):\n",
    "    print(name[i] + \" : , Predict : \"+ str(categories[predict[i]]))\n"
   ]
  }
 ],
 "metadata": {
  "kernelspec": {
   "display_name": "Python 3",
   "language": "python",
   "name": "python3"
  },
  "language_info": {
   "codemirror_mode": {
    "name": "ipython",
    "version": 3
   },
   "file_extension": ".py",
   "mimetype": "text/x-python",
   "name": "python",
   "nbconvert_exporter": "python",
   "pygments_lexer": "ipython3",
   "version": "3.7.10"
  },
  "papermill": {
   "default_parameters": {},
   "duration": 2959.231514,
   "end_time": "2021-06-03T07:07:54.892900",
   "environment_variables": {},
   "exception": null,
   "input_path": "__notebook__.ipynb",
   "output_path": "__notebook__.ipynb",
   "parameters": {},
   "start_time": "2021-06-03T06:18:35.661386",
   "version": "2.3.3"
  }
 },
 "nbformat": 4,
 "nbformat_minor": 5
}
